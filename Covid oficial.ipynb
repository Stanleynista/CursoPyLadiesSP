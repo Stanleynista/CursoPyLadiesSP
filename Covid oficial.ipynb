{
 "cells": [
  {
   "cell_type": "markdown",
   "metadata": {},
   "source": [
    "#### Os dados, até a data do presente estudo, estão no https://covid.saude.gov.br/\n",
    "#### O presente arquivo é de 29 de novembro. Atenção: de acordo com o dia em que for feita a análise, a última barra da totalização por semana estará menor.\n",
    "#### Disclaimer/Aviso Legal: Este notebook tem um fim única e exclusivamente didático, para alunos da FATEC, como uma introdução à Análise de Dados Públicos. Desse modo, está excluída a garantia ou responsabilidade de qualquer tipo, por exemplo, de precisão, confiabilidade, completude e atualidade das informações."
   ]
  },
  {
   "cell_type": "code",
   "execution_count": 1,
   "metadata": {},
   "outputs": [],
   "source": [
    "import pandas as pd\n",
    "low_memory=False\n",
    "import matplotlib.pyplot as plt\n",
    "%matplotlib inline\n",
    "pd.options.display.max_columns = 80\n",
    "pd.options.display.max_rows = 90"
   ]
  },
  {
   "cell_type": "code",
   "execution_count": 2,
   "metadata": {},
   "outputs": [],
   "source": [
    "filename = r'C:\\Users\\fmasa\\Downloads\\HIST_PAINEL_COVIDBR_29nov2020.csv'\n",
    "df = pd.read_csv(filename, delimiter=';',\n",
    "                 error_bad_lines=False)"
   ]
  },
  {
   "cell_type": "code",
   "execution_count": 3,
   "metadata": {},
   "outputs": [
    {
     "data": {
      "text/plain": [
       "(1394380, 17)"
      ]
     },
     "execution_count": 3,
     "metadata": {},
     "output_type": "execute_result"
    }
   ],
   "source": [
    "df.shape"
   ]
  },
  {
   "cell_type": "code",
   "execution_count": 4,
   "metadata": {},
   "outputs": [
    {
     "name": "stdout",
     "output_type": "stream",
     "text": [
      "<class 'pandas.core.frame.DataFrame'>\n",
      "RangeIndex: 1394380 entries, 0 to 1394379\n",
      "Data columns (total 17 columns):\n",
      " #   Column                  Non-Null Count    Dtype  \n",
      "---  ------                  --------------    -----  \n",
      " 0   regiao                  1394380 non-null  object \n",
      " 1   estado                  1394101 non-null  object \n",
      " 2   municipio               1381360 non-null  object \n",
      " 3   coduf                   1394380 non-null  int64  \n",
      " 4   codmun                  1386568 non-null  float64\n",
      " 5   codRegiaoSaude          1381360 non-null  float64\n",
      " 6   nomeRegiaoSaude         1381360 non-null  object \n",
      " 7   data                    1394380 non-null  object \n",
      " 8   semanaEpi               1394380 non-null  int64  \n",
      " 9   populacaoTCU2019        1389172 non-null  float64\n",
      " 10  casosAcumulado          1394380 non-null  int64  \n",
      " 11  casosNovos              1394380 non-null  int64  \n",
      " 12  obitosAcumulado         1394380 non-null  int64  \n",
      " 13  obitosNovos             1394380 non-null  int64  \n",
      " 14  Recuperadosnovos        225 non-null      float64\n",
      " 15  emAcompanhamentoNovos   225 non-null      float64\n",
      " 16  interior/metropolitana  1381360 non-null  float64\n",
      "dtypes: float64(6), int64(6), object(5)\n",
      "memory usage: 154.3+ MB\n"
     ]
    }
   ],
   "source": [
    "df.info()"
   ]
  },
  {
   "cell_type": "code",
   "execution_count": 5,
   "metadata": {},
   "outputs": [
    {
     "data": {
      "text/html": [
       "<div>\n",
       "<style scoped>\n",
       "    .dataframe tbody tr th:only-of-type {\n",
       "        vertical-align: middle;\n",
       "    }\n",
       "\n",
       "    .dataframe tbody tr th {\n",
       "        vertical-align: top;\n",
       "    }\n",
       "\n",
       "    .dataframe thead th {\n",
       "        text-align: right;\n",
       "    }\n",
       "</style>\n",
       "<table border=\"1\" class=\"dataframe\">\n",
       "  <thead>\n",
       "    <tr style=\"text-align: right;\">\n",
       "      <th></th>\n",
       "      <th>regiao</th>\n",
       "      <th>estado</th>\n",
       "      <th>municipio</th>\n",
       "      <th>coduf</th>\n",
       "      <th>codmun</th>\n",
       "      <th>codRegiaoSaude</th>\n",
       "      <th>nomeRegiaoSaude</th>\n",
       "      <th>data</th>\n",
       "      <th>semanaEpi</th>\n",
       "      <th>populacaoTCU2019</th>\n",
       "      <th>casosAcumulado</th>\n",
       "      <th>casosNovos</th>\n",
       "      <th>obitosAcumulado</th>\n",
       "      <th>obitosNovos</th>\n",
       "      <th>Recuperadosnovos</th>\n",
       "      <th>emAcompanhamentoNovos</th>\n",
       "      <th>interior/metropolitana</th>\n",
       "    </tr>\n",
       "  </thead>\n",
       "  <tbody>\n",
       "    <tr>\n",
       "      <th>250590</th>\n",
       "      <td>Nordeste</td>\n",
       "      <td>CE</td>\n",
       "      <td>Ipueiras</td>\n",
       "      <td>23</td>\n",
       "      <td>230590.0</td>\n",
       "      <td>23015.0</td>\n",
       "      <td>15ª REGIAO CRATEUS</td>\n",
       "      <td>2020-11-16</td>\n",
       "      <td>47</td>\n",
       "      <td>38166.0</td>\n",
       "      <td>1527</td>\n",
       "      <td>0</td>\n",
       "      <td>32</td>\n",
       "      <td>0</td>\n",
       "      <td>NaN</td>\n",
       "      <td>NaN</td>\n",
       "      <td>0.0</td>\n",
       "    </tr>\n",
       "    <tr>\n",
       "      <th>1305789</th>\n",
       "      <td>Centro-Oeste</td>\n",
       "      <td>MT</td>\n",
       "      <td>Colíder</td>\n",
       "      <td>51</td>\n",
       "      <td>510320.0</td>\n",
       "      <td>51010.0</td>\n",
       "      <td>NORTE MATOGROSSENSE</td>\n",
       "      <td>2020-10-06</td>\n",
       "      <td>41</td>\n",
       "      <td>33438.0</td>\n",
       "      <td>1415</td>\n",
       "      <td>9</td>\n",
       "      <td>30</td>\n",
       "      <td>0</td>\n",
       "      <td>NaN</td>\n",
       "      <td>NaN</td>\n",
       "      <td>0.0</td>\n",
       "    </tr>\n",
       "    <tr>\n",
       "      <th>1378737</th>\n",
       "      <td>Centro-Oeste</td>\n",
       "      <td>GO</td>\n",
       "      <td>Piranhas</td>\n",
       "      <td>52</td>\n",
       "      <td>521720.0</td>\n",
       "      <td>52009.0</td>\n",
       "      <td>OESTE I</td>\n",
       "      <td>2020-11-11</td>\n",
       "      <td>46</td>\n",
       "      <td>10385.0</td>\n",
       "      <td>262</td>\n",
       "      <td>0</td>\n",
       "      <td>16</td>\n",
       "      <td>0</td>\n",
       "      <td>NaN</td>\n",
       "      <td>NaN</td>\n",
       "      <td>0.0</td>\n",
       "    </tr>\n",
       "    <tr>\n",
       "      <th>425954</th>\n",
       "      <td>Nordeste</td>\n",
       "      <td>AL</td>\n",
       "      <td>Dois Riachos</td>\n",
       "      <td>27</td>\n",
       "      <td>270250.0</td>\n",
       "      <td>27009.0</td>\n",
       "      <td>9ª REGIAO DE SAUDE</td>\n",
       "      <td>2020-04-10</td>\n",
       "      <td>15</td>\n",
       "      <td>11075.0</td>\n",
       "      <td>0</td>\n",
       "      <td>0</td>\n",
       "      <td>0</td>\n",
       "      <td>0</td>\n",
       "      <td>NaN</td>\n",
       "      <td>NaN</td>\n",
       "      <td>0.0</td>\n",
       "    </tr>\n",
       "    <tr>\n",
       "      <th>875414</th>\n",
       "      <td>Sudeste</td>\n",
       "      <td>SP</td>\n",
       "      <td>Herculândia</td>\n",
       "      <td>35</td>\n",
       "      <td>351900.0</td>\n",
       "      <td>35095.0</td>\n",
       "      <td>TUPA</td>\n",
       "      <td>2020-07-03</td>\n",
       "      <td>27</td>\n",
       "      <td>9526.0</td>\n",
       "      <td>25</td>\n",
       "      <td>0</td>\n",
       "      <td>2</td>\n",
       "      <td>0</td>\n",
       "      <td>NaN</td>\n",
       "      <td>NaN</td>\n",
       "      <td>0.0</td>\n",
       "    </tr>\n",
       "    <tr>\n",
       "      <th>868490</th>\n",
       "      <td>Sudeste</td>\n",
       "      <td>SP</td>\n",
       "      <td>Franco da Rocha</td>\n",
       "      <td>35</td>\n",
       "      <td>351640.0</td>\n",
       "      <td>35012.0</td>\n",
       "      <td>FRANCO DA ROCHA</td>\n",
       "      <td>2020-07-23</td>\n",
       "      <td>30</td>\n",
       "      <td>154489.0</td>\n",
       "      <td>1118</td>\n",
       "      <td>39</td>\n",
       "      <td>85</td>\n",
       "      <td>0</td>\n",
       "      <td>NaN</td>\n",
       "      <td>NaN</td>\n",
       "      <td>1.0</td>\n",
       "    </tr>\n",
       "    <tr>\n",
       "      <th>235768</th>\n",
       "      <td>Nordeste</td>\n",
       "      <td>CE</td>\n",
       "      <td>Barbalha</td>\n",
       "      <td>23</td>\n",
       "      <td>230190.0</td>\n",
       "      <td>23021.0</td>\n",
       "      <td>21ª REGIAO JUAZEIRO DO NORTE</td>\n",
       "      <td>2020-05-10</td>\n",
       "      <td>20</td>\n",
       "      <td>60781.0</td>\n",
       "      <td>8</td>\n",
       "      <td>0</td>\n",
       "      <td>0</td>\n",
       "      <td>0</td>\n",
       "      <td>NaN</td>\n",
       "      <td>NaN</td>\n",
       "      <td>0.0</td>\n",
       "    </tr>\n",
       "    <tr>\n",
       "      <th>1143660</th>\n",
       "      <td>Sul</td>\n",
       "      <td>SC</td>\n",
       "      <td>São Lourenço do Oeste</td>\n",
       "      <td>42</td>\n",
       "      <td>421690.0</td>\n",
       "      <td>42003.0</td>\n",
       "      <td>XANXERE</td>\n",
       "      <td>2020-04-04</td>\n",
       "      <td>14</td>\n",
       "      <td>24076.0</td>\n",
       "      <td>1</td>\n",
       "      <td>0</td>\n",
       "      <td>0</td>\n",
       "      <td>0</td>\n",
       "      <td>NaN</td>\n",
       "      <td>NaN</td>\n",
       "      <td>0.0</td>\n",
       "    </tr>\n",
       "    <tr>\n",
       "      <th>1312624</th>\n",
       "      <td>Centro-Oeste</td>\n",
       "      <td>MT</td>\n",
       "      <td>Juruena</td>\n",
       "      <td>51</td>\n",
       "      <td>510517.0</td>\n",
       "      <td>51008.0</td>\n",
       "      <td>NOROESTE MATOGROSSENSE</td>\n",
       "      <td>2020-06-19</td>\n",
       "      <td>25</td>\n",
       "      <td>15865.0</td>\n",
       "      <td>1</td>\n",
       "      <td>0</td>\n",
       "      <td>0</td>\n",
       "      <td>0</td>\n",
       "      <td>NaN</td>\n",
       "      <td>NaN</td>\n",
       "      <td>0.0</td>\n",
       "    </tr>\n",
       "    <tr>\n",
       "      <th>1012815</th>\n",
       "      <td>Sul</td>\n",
       "      <td>PR</td>\n",
       "      <td>Godoy Moreira</td>\n",
       "      <td>41</td>\n",
       "      <td>410855.0</td>\n",
       "      <td>41022.0</td>\n",
       "      <td>22ª RS IVAIPORA</td>\n",
       "      <td>2020-07-12</td>\n",
       "      <td>29</td>\n",
       "      <td>2946.0</td>\n",
       "      <td>0</td>\n",
       "      <td>0</td>\n",
       "      <td>0</td>\n",
       "      <td>0</td>\n",
       "      <td>NaN</td>\n",
       "      <td>NaN</td>\n",
       "      <td>0.0</td>\n",
       "    </tr>\n",
       "  </tbody>\n",
       "</table>\n",
       "</div>"
      ],
      "text/plain": [
       "               regiao estado              municipio  coduf    codmun  \\\n",
       "250590       Nordeste     CE               Ipueiras     23  230590.0   \n",
       "1305789  Centro-Oeste     MT                Colíder     51  510320.0   \n",
       "1378737  Centro-Oeste     GO               Piranhas     52  521720.0   \n",
       "425954       Nordeste     AL           Dois Riachos     27  270250.0   \n",
       "875414        Sudeste     SP            Herculândia     35  351900.0   \n",
       "868490        Sudeste     SP        Franco da Rocha     35  351640.0   \n",
       "235768       Nordeste     CE               Barbalha     23  230190.0   \n",
       "1143660           Sul     SC  São Lourenço do Oeste     42  421690.0   \n",
       "1312624  Centro-Oeste     MT                Juruena     51  510517.0   \n",
       "1012815           Sul     PR          Godoy Moreira     41  410855.0   \n",
       "\n",
       "         codRegiaoSaude               nomeRegiaoSaude        data  semanaEpi  \\\n",
       "250590          23015.0            15ª REGIAO CRATEUS  2020-11-16         47   \n",
       "1305789         51010.0           NORTE MATOGROSSENSE  2020-10-06         41   \n",
       "1378737         52009.0                       OESTE I  2020-11-11         46   \n",
       "425954          27009.0            9ª REGIAO DE SAUDE  2020-04-10         15   \n",
       "875414          35095.0                          TUPA  2020-07-03         27   \n",
       "868490          35012.0               FRANCO DA ROCHA  2020-07-23         30   \n",
       "235768          23021.0  21ª REGIAO JUAZEIRO DO NORTE  2020-05-10         20   \n",
       "1143660         42003.0                       XANXERE  2020-04-04         14   \n",
       "1312624         51008.0        NOROESTE MATOGROSSENSE  2020-06-19         25   \n",
       "1012815         41022.0               22ª RS IVAIPORA  2020-07-12         29   \n",
       "\n",
       "         populacaoTCU2019  casosAcumulado  casosNovos  obitosAcumulado  \\\n",
       "250590            38166.0            1527           0               32   \n",
       "1305789           33438.0            1415           9               30   \n",
       "1378737           10385.0             262           0               16   \n",
       "425954            11075.0               0           0                0   \n",
       "875414             9526.0              25           0                2   \n",
       "868490           154489.0            1118          39               85   \n",
       "235768            60781.0               8           0                0   \n",
       "1143660           24076.0               1           0                0   \n",
       "1312624           15865.0               1           0                0   \n",
       "1012815            2946.0               0           0                0   \n",
       "\n",
       "         obitosNovos  Recuperadosnovos  emAcompanhamentoNovos  \\\n",
       "250590             0               NaN                    NaN   \n",
       "1305789            0               NaN                    NaN   \n",
       "1378737            0               NaN                    NaN   \n",
       "425954             0               NaN                    NaN   \n",
       "875414             0               NaN                    NaN   \n",
       "868490             0               NaN                    NaN   \n",
       "235768             0               NaN                    NaN   \n",
       "1143660            0               NaN                    NaN   \n",
       "1312624            0               NaN                    NaN   \n",
       "1012815            0               NaN                    NaN   \n",
       "\n",
       "         interior/metropolitana  \n",
       "250590                      0.0  \n",
       "1305789                     0.0  \n",
       "1378737                     0.0  \n",
       "425954                      0.0  \n",
       "875414                      0.0  \n",
       "868490                      1.0  \n",
       "235768                      0.0  \n",
       "1143660                     0.0  \n",
       "1312624                     0.0  \n",
       "1012815                     0.0  "
      ]
     },
     "execution_count": 5,
     "metadata": {},
     "output_type": "execute_result"
    }
   ],
   "source": [
    "df.sample(10)"
   ]
  },
  {
   "cell_type": "code",
   "execution_count": 6,
   "metadata": {},
   "outputs": [
    {
     "data": {
      "text/plain": [
       "estado\n",
       "SP    42076\n",
       "RJ    22561\n",
       "MG    10031\n",
       "CE     9607\n",
       "PE     9030\n",
       "BA     8247\n",
       "PA     6907\n",
       "RS     6776\n",
       "GO     6349\n",
       "PR     6122\n",
       "AM     4885\n",
       "MA     4287\n",
       "ES     4252\n",
       "MT     4078\n",
       "DF     3925\n",
       "SC     3721\n",
       "PB     3292\n",
       "RN     2686\n",
       "PI     2622\n",
       "AL     2336\n",
       "SE     2304\n",
       "MS     1766\n",
       "RO     1555\n",
       "TO     1162\n",
       "AP      806\n",
       "RR      727\n",
       "AC      723\n",
       "Name: obitosAcumulado, dtype: int64"
      ]
     },
     "execution_count": 6,
     "metadata": {},
     "output_type": "execute_result"
    }
   ],
   "source": [
    "df.groupby('estado')['obitosAcumulado'].max().sort_values(ascending=False)"
   ]
  },
  {
   "cell_type": "code",
   "execution_count": 7,
   "metadata": {},
   "outputs": [
    {
     "data": {
      "text/plain": [
       "<AxesSubplot:ylabel='estado'>"
      ]
     },
     "execution_count": 7,
     "metadata": {},
     "output_type": "execute_result"
    },
    {
     "data": {
      "image/png": "[encoded data removed]",
      "text/plain": [
       "<Figure size 432x288 with 1 Axes>"
      ]
     },
     "metadata": {
      "needs_background": "light"
     },
     "output_type": "display_data"
    }
   ],
   "source": [
    "df.groupby('estado')['obitosAcumulado'].max().sort_values().tail(5).plot(kind='barh')"
   ]
  },
  {
   "cell_type": "code",
   "execution_count": 8,
   "metadata": {},
   "outputs": [
    {
     "data": {
      "text/plain": [
       "<AxesSubplot:xlabel='data'>"
      ]
     },
     "execution_count": 8,
     "metadata": {},
     "output_type": "execute_result"
    },
    {
     "data": {
      "image/png": "[encoded data removed]",
      "text/plain": [
       "<Figure size 432x288 with 1 Axes>"
      ]
     },
     "metadata": {
      "needs_background": "light"
     },
     "output_type": "display_data"
    }
   ],
   "source": [
    "rj = df.query('municipio == \"Rio de Janeiro\"')\n",
    "rj.tail(14).plot(kind='bar', \n",
    "        x='data', y='casosNovos', color='GREEN')"
   ]
  },
  {
   "cell_type": "code",
   "execution_count": 9,
   "metadata": {},
   "outputs": [
    {
     "data": {
      "text/plain": [
       "<AxesSubplot:xlabel='semanaEpi'>"
      ]
     },
     "execution_count": 9,
     "metadata": {},
     "output_type": "execute_result"
    },
    {
     "data": {
      "image/png": "[encoded data removed]",
      "text/plain": [
       "<Figure size 432x288 with 1 Axes>"
      ]
     },
     "metadata": {
      "needs_background": "light"
     },
     "output_type": "display_data"
    }
   ],
   "source": [
    "rj.groupby('semanaEpi')['casosNovos'].sum().plot(kind='bar')"
   ]
  },
  {
   "cell_type": "code",
   "execution_count": 10,
   "metadata": {},
   "outputs": [
    {
     "data": {
      "text/plain": [
       "<AxesSubplot:xlabel='data'>"
      ]
     },
     "execution_count": 10,
     "metadata": {},
     "output_type": "execute_result"
    },
    {
     "data": {
      "image/png": "[encoded data removed]",
      "text/plain": [
       "<Figure size 432x288 with 1 Axes>"
      ]
     },
     "metadata": {
      "needs_background": "light"
     },
     "output_type": "display_data"
    }
   ],
   "source": [
    "sp = df.query('municipio == \"São Paulo\"')\n",
    "sp.tail(10).plot(kind='bar', \n",
    "        x='data', y='casosNovos', color='RED')"
   ]
  },
  {
   "cell_type": "code",
   "execution_count": 11,
   "metadata": {},
   "outputs": [
    {
     "data": {
      "text/plain": [
       "<AxesSubplot:xlabel='semanaEpi'>"
      ]
     },
     "execution_count": 11,
     "metadata": {},
     "output_type": "execute_result"
    },
    {
     "data": {
      "image/png": "[encoded data removed]",
      "text/plain": [
       "<Figure size 432x288 with 1 Axes>"
      ]
     },
     "metadata": {
      "needs_background": "light"
     },
     "output_type": "display_data"
    }
   ],
   "source": [
    "sp.groupby('semanaEpi')['casosNovos'].sum().plot(kind='bar')"
   ]
  },
  {
   "cell_type": "code",
   "execution_count": null,
   "metadata": {},
   "outputs": [],
   "source": []
  }
 ],
 "metadata": {
  "kernelspec": {
   "display_name": "Python 3",
   "language": "python",
   "name": "python3"
  },
  "language_info": {
   "codemirror_mode": {
    "name": "ipython",
    "version": 3
   },
   "file_extension": ".py",
   "mimetype": "text/x-python",
   "name": "python",
   "nbconvert_exporter": "python",
   "pygments_lexer": "ipython3",
   "version": "3.8.2"
  }
 },
 "nbformat": 4,
 "nbformat_minor": 4
}
